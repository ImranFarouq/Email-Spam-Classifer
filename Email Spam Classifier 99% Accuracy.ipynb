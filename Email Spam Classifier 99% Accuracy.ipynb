{
 "cells": [
  {
   "cell_type": "code",
   "execution_count": 1,
   "metadata": {},
   "outputs": [],
   "source": [
    "# imports "
   ]
  },
  {
   "cell_type": "code",
   "execution_count": 158,
   "metadata": {},
   "outputs": [],
   "source": [
    "import pandas as pd\n",
    "import numpy as np\n",
    "import seaborn as sns\n",
    "import nltk\n",
    "from nltk.corpus import stopwords\n",
    "from nltk.stem import PorterStemmer, WordNetLemmatizer\n",
    "import re\n",
    "from sklearn.feature_extraction.text import CountVectorizer\n",
    "from sklearn.model_selection import train_test_split\n",
    "from sklearn.linear_model import LogisticRegression\n",
    "from sklearn.metrics import confusion_matrix, accuracy_score, classification_report\n",
    "from sklearn.pipeline import Pipeline"
   ]
  },
  {
   "cell_type": "code",
   "execution_count": 159,
   "metadata": {},
   "outputs": [],
   "source": [
    "# reading the data file '/kaggle/input/spam-email/"
   ]
  },
  {
   "cell_type": "code",
   "execution_count": 164,
   "metadata": {
    "scrolled": false
   },
   "outputs": [
    {
     "data": {
      "text/html": [
       "<div>\n",
       "<style scoped>\n",
       "    .dataframe tbody tr th:only-of-type {\n",
       "        vertical-align: middle;\n",
       "    }\n",
       "\n",
       "    .dataframe tbody tr th {\n",
       "        vertical-align: top;\n",
       "    }\n",
       "\n",
       "    .dataframe thead th {\n",
       "        text-align: right;\n",
       "    }\n",
       "</style>\n",
       "<table border=\"1\" class=\"dataframe\">\n",
       "  <thead>\n",
       "    <tr style=\"text-align: right;\">\n",
       "      <th></th>\n",
       "      <th>Category</th>\n",
       "      <th>Message</th>\n",
       "    </tr>\n",
       "  </thead>\n",
       "  <tbody>\n",
       "    <tr>\n",
       "      <th>0</th>\n",
       "      <td>ham</td>\n",
       "      <td>Go until jurong point, crazy.. Available only ...</td>\n",
       "    </tr>\n",
       "    <tr>\n",
       "      <th>1</th>\n",
       "      <td>ham</td>\n",
       "      <td>Ok lar... Joking wif u oni...</td>\n",
       "    </tr>\n",
       "    <tr>\n",
       "      <th>2</th>\n",
       "      <td>spam</td>\n",
       "      <td>Free entry in 2 a wkly comp to win FA Cup fina...</td>\n",
       "    </tr>\n",
       "    <tr>\n",
       "      <th>3</th>\n",
       "      <td>ham</td>\n",
       "      <td>U dun say so early hor... U c already then say...</td>\n",
       "    </tr>\n",
       "    <tr>\n",
       "      <th>4</th>\n",
       "      <td>ham</td>\n",
       "      <td>Nah I don't think he goes to usf, he lives aro...</td>\n",
       "    </tr>\n",
       "  </tbody>\n",
       "</table>\n",
       "</div>"
      ],
      "text/plain": [
       "  Category                                            Message\n",
       "0      ham  Go until jurong point, crazy.. Available only ...\n",
       "1      ham                      Ok lar... Joking wif u oni...\n",
       "2     spam  Free entry in 2 a wkly comp to win FA Cup fina...\n",
       "3      ham  U dun say so early hor... U c already then say...\n",
       "4      ham  Nah I don't think he goes to usf, he lives aro..."
      ]
     },
     "execution_count": 164,
     "metadata": {},
     "output_type": "execute_result"
    }
   ],
   "source": [
    "df = pd.read_csv('Data\spam.csv')\n",
    "df.head()"
   ]
  },
  {
   "cell_type": "code",
   "execution_count": 161,
   "metadata": {
    "scrolled": true
   },
   "outputs": [
    {
     "data": {
      "text/plain": [
       "(5572, 2)"
      ]
     },
     "execution_count": 161,
     "metadata": {},
     "output_type": "execute_result"
    }
   ],
   "source": [
    "df.shape"
   ]
  },
  {
   "cell_type": "code",
   "execution_count": 162,
   "metadata": {
    "scrolled": true
   },
   "outputs": [
    {
     "name": "stdout",
     "output_type": "stream",
     "text": [
      "<class 'pandas.core.frame.DataFrame'>\n",
      "RangeIndex: 5572 entries, 0 to 5571\n",
      "Data columns (total 2 columns):\n",
      " #   Column    Non-Null Count  Dtype \n",
      "---  ------    --------------  ----- \n",
      " 0   Category  5572 non-null   object\n",
      " 1   Message   5572 non-null   object\n",
      "dtypes: object(2)\n",
      "memory usage: 87.2+ KB\n"
     ]
    }
   ],
   "source": [
    "df.info()"
   ]
  },
  {
   "cell_type": "code",
   "execution_count": 163,
   "metadata": {
    "scrolled": false
   },
   "outputs": [
    {
     "data": {
      "application/javascript": [
       "\n",
       "        if (window._pyforest_update_imports_cell) { window._pyforest_update_imports_cell('import matplotlib.pyplot as plt\\nimport seaborn as sns'); }\n",
       "    "
      ],
      "text/plain": [
       "<IPython.core.display.Javascript object>"
      ]
     },
     "metadata": {},
     "output_type": "display_data"
    },
    {
     "data": {
      "application/javascript": [
       "\n",
       "        if (window._pyforest_update_imports_cell) { window._pyforest_update_imports_cell('import matplotlib.pyplot as plt\\nimport seaborn as sns'); }\n",
       "    "
      ],
      "text/plain": [
       "<IPython.core.display.Javascript object>"
      ]
     },
     "metadata": {},
     "output_type": "display_data"
    },
    {
     "data": {
      "application/javascript": [
       "\n",
       "        if (window._pyforest_update_imports_cell) { window._pyforest_update_imports_cell('import matplotlib.pyplot as plt\\nimport seaborn as sns'); }\n",
       "    "
      ],
      "text/plain": [
       "<IPython.core.display.Javascript object>"
      ]
     },
     "metadata": {},
     "output_type": "display_data"
    },
    {
     "data": {
      "application/javascript": [
       "\n",
       "        if (window._pyforest_update_imports_cell) { window._pyforest_update_imports_cell('import matplotlib.pyplot as plt\\nimport seaborn as sns'); }\n",
       "    "
      ],
      "text/plain": [
       "<IPython.core.display.Javascript object>"
      ]
     },
     "metadata": {},
     "output_type": "display_data"
    },
    {
     "data": {
      "application/javascript": [
       "\n",
       "        if (window._pyforest_update_imports_cell) { window._pyforest_update_imports_cell('import matplotlib.pyplot as plt\\nimport seaborn as sns'); }\n",
       "    "
      ],
      "text/plain": [
       "<IPython.core.display.Javascript object>"
      ]
     },
     "metadata": {},
     "output_type": "display_data"
    },
    {
     "data": {
      "image/png": "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\n",
      "text/plain": [
       "<Figure size 720x360 with 2 Axes>"
      ]
     },
     "metadata": {
      "needs_background": "light"
     },
     "output_type": "display_data"
    }
   ],
   "source": [
    "category_count = df['Category'].value_counts()\n",
    "plt.figure(figsize=(10,5))\n",
    "plt.subplot(1,2,1)\n",
    "plt.pie(x=category_count.values, labels=category_count.index, autopct='%.2f%%')\n",
    "plt.subplot(1,2,2)\n",
    "sns.countplot(x='Category', data=df)\n",
    "plt.tight_layout()"
   ]
  },
  {
   "cell_type": "code",
   "execution_count": 121,
   "metadata": {
    "scrolled": false
   },
   "outputs": [
    {
     "data": {
      "text/plain": [
       "Category    0\n",
       "Message     0\n",
       "dtype: int64"
      ]
     },
     "execution_count": 121,
     "metadata": {},
     "output_type": "execute_result"
    }
   ],
   "source": [
    "df.isna().sum()  # no null values"
   ]
  },
  {
   "cell_type": "code",
   "execution_count": 124,
   "metadata": {
    "scrolled": true
   },
   "outputs": [
    {
     "data": {
      "text/html": [
       "<div>\n",
       "<style scoped>\n",
       "    .dataframe tbody tr th:only-of-type {\n",
       "        vertical-align: middle;\n",
       "    }\n",
       "\n",
       "    .dataframe tbody tr th {\n",
       "        vertical-align: top;\n",
       "    }\n",
       "\n",
       "    .dataframe thead tr th {\n",
       "        text-align: left;\n",
       "    }\n",
       "\n",
       "    .dataframe thead tr:last-of-type th {\n",
       "        text-align: right;\n",
       "    }\n",
       "</style>\n",
       "<table border=\"1\" class=\"dataframe\">\n",
       "  <thead>\n",
       "    <tr>\n",
       "      <th></th>\n",
       "      <th colspan=\"4\" halign=\"left\">Message</th>\n",
       "    </tr>\n",
       "    <tr>\n",
       "      <th></th>\n",
       "      <th>count</th>\n",
       "      <th>unique</th>\n",
       "      <th>top</th>\n",
       "      <th>freq</th>\n",
       "    </tr>\n",
       "    <tr>\n",
       "      <th>Category</th>\n",
       "      <th></th>\n",
       "      <th></th>\n",
       "      <th></th>\n",
       "      <th></th>\n",
       "    </tr>\n",
       "  </thead>\n",
       "  <tbody>\n",
       "    <tr>\n",
       "      <th>ham</th>\n",
       "      <td>4825</td>\n",
       "      <td>4516</td>\n",
       "      <td>Sorry, I'll call later</td>\n",
       "      <td>30</td>\n",
       "    </tr>\n",
       "    <tr>\n",
       "      <th>spam</th>\n",
       "      <td>747</td>\n",
       "      <td>641</td>\n",
       "      <td>Please call our customer service representativ...</td>\n",
       "      <td>4</td>\n",
       "    </tr>\n",
       "  </tbody>\n",
       "</table>\n",
       "</div>"
      ],
      "text/plain": [
       "         Message                                                            \\\n",
       "           count unique                                                top   \n",
       "Category                                                                     \n",
       "ham         4825   4516                             Sorry, I'll call later   \n",
       "spam         747    641  Please call our customer service representativ...   \n",
       "\n",
       "               \n",
       "         freq  \n",
       "Category       \n",
       "ham        30  \n",
       "spam        4  "
      ]
     },
     "execution_count": 124,
     "metadata": {},
     "output_type": "execute_result"
    }
   ],
   "source": [
    "df.groupby('Category').describe()"
   ]
  },
  {
   "cell_type": "code",
   "execution_count": 125,
   "metadata": {},
   "outputs": [],
   "source": [
    "df['Spam']=df['Category'].apply(lambda x:1 if x=='spam' else 0)\n",
    "df.drop('Category',axis=1, inplace=True)"
   ]
  },
  {
   "cell_type": "code",
   "execution_count": 126,
   "metadata": {},
   "outputs": [
    {
     "data": {
      "text/html": [
       "<div>\n",
       "<style scoped>\n",
       "    .dataframe tbody tr th:only-of-type {\n",
       "        vertical-align: middle;\n",
       "    }\n",
       "\n",
       "    .dataframe tbody tr th {\n",
       "        vertical-align: top;\n",
       "    }\n",
       "\n",
       "    .dataframe thead th {\n",
       "        text-align: right;\n",
       "    }\n",
       "</style>\n",
       "<table border=\"1\" class=\"dataframe\">\n",
       "  <thead>\n",
       "    <tr style=\"text-align: right;\">\n",
       "      <th></th>\n",
       "      <th>Message</th>\n",
       "      <th>Spam</th>\n",
       "    </tr>\n",
       "  </thead>\n",
       "  <tbody>\n",
       "    <tr>\n",
       "      <th>0</th>\n",
       "      <td>Go until jurong point, crazy.. Available only ...</td>\n",
       "      <td>0</td>\n",
       "    </tr>\n",
       "    <tr>\n",
       "      <th>1</th>\n",
       "      <td>Ok lar... Joking wif u oni...</td>\n",
       "      <td>0</td>\n",
       "    </tr>\n",
       "    <tr>\n",
       "      <th>2</th>\n",
       "      <td>Free entry in 2 a wkly comp to win FA Cup fina...</td>\n",
       "      <td>1</td>\n",
       "    </tr>\n",
       "    <tr>\n",
       "      <th>3</th>\n",
       "      <td>U dun say so early hor... U c already then say...</td>\n",
       "      <td>0</td>\n",
       "    </tr>\n",
       "    <tr>\n",
       "      <th>4</th>\n",
       "      <td>Nah I don't think he goes to usf, he lives aro...</td>\n",
       "      <td>0</td>\n",
       "    </tr>\n",
       "  </tbody>\n",
       "</table>\n",
       "</div>"
      ],
      "text/plain": [
       "                                             Message  Spam\n",
       "0  Go until jurong point, crazy.. Available only ...     0\n",
       "1                      Ok lar... Joking wif u oni...     0\n",
       "2  Free entry in 2 a wkly comp to win FA Cup fina...     1\n",
       "3  U dun say so early hor... U c already then say...     0\n",
       "4  Nah I don't think he goes to usf, he lives aro...     0"
      ]
     },
     "execution_count": 126,
     "metadata": {},
     "output_type": "execute_result"
    }
   ],
   "source": [
    "df.head()"
   ]
  },
  {
   "cell_type": "markdown",
   "metadata": {},
   "source": [
    "\n",
    "## Data Preprocessing or Cleaning"
   ]
  },
  {
   "cell_type": "markdown",
   "metadata": {},
   "source": [
    "### using Stemming "
   ]
  },
  {
   "cell_type": "code",
   "execution_count": 146,
   "metadata": {},
   "outputs": [],
   "source": [
    "ps = PorterStemmer()  # PortStemmer for Stemming\n",
    "corpus = []"
   ]
  },
  {
   "cell_type": "code",
   "execution_count": 147,
   "metadata": {},
   "outputs": [],
   "source": [
    "for i in range(len(df['Message'])):\n",
    "    words = re.sub('[^a-zA-z]', ' ', df['Message'][i]) # removing all special characters\n",
    "    words = words.lower()  # lowering all characters\n",
    "    words = words.split()  # spliting the sentence into words\n",
    "    # applying stemming using PortStemmer\n",
    "    words = [ps.stem(word) for word in words if word not in stopwords.words('english')]  \n",
    "    words = ' '.join(words)\n",
    "    corpus.append(words)  # appending it to a list"
   ]
  },
  {
   "cell_type": "code",
   "execution_count": 148,
   "metadata": {},
   "outputs": [],
   "source": [
    "X = corpus\n",
    "y = df['Spam'] "
   ]
  },
  {
   "cell_type": "code",
   "execution_count": 149,
   "metadata": {
    "scrolled": false
   },
   "outputs": [
    {
     "data": {
      "text/plain": [
       "(5572, 5572)"
      ]
     },
     "execution_count": 149,
     "metadata": {},
     "output_type": "execute_result"
    }
   ],
   "source": [
    "len(X), len(y)"
   ]
  },
  {
   "cell_type": "markdown",
   "metadata": {},
   "source": [
    "#### Splitting before Transforming and fitting to avoid Overfitting"
   ]
  },
  {
   "cell_type": "code",
   "execution_count": 150,
   "metadata": {},
   "outputs": [],
   "source": [
    "X_train, X_test,y_train, y_test = train_test_split(X, y, test_size=0.2, random_state=1)"
   ]
  },
  {
   "cell_type": "markdown",
   "metadata": {},
   "source": [
    "#### Pipleine -  transformer (CountVectorizer/ one hot encoder) and estimator(LogisticRegression)"
   ]
  },
  {
   "cell_type": "code",
   "execution_count": 151,
   "metadata": {},
   "outputs": [],
   "source": [
    "clf = Pipeline([('Vectorizer', CountVectorizer()), ('lr', LogisticRegression())]) "
   ]
  },
  {
   "cell_type": "code",
   "execution_count": 152,
   "metadata": {},
   "outputs": [
    {
     "data": {
      "text/plain": [
       "Pipeline(steps=[('Vectorizer', CountVectorizer()),\n",
       "                ('lr', LogisticRegression())])"
      ]
     },
     "execution_count": 152,
     "metadata": {},
     "output_type": "execute_result"
    }
   ],
   "source": [
    "clf.fit(X_train, y_train)"
   ]
  },
  {
   "cell_type": "code",
   "execution_count": 153,
   "metadata": {},
   "outputs": [
    {
     "data": {
      "text/plain": [
       "0.9856502242152466"
      ]
     },
     "execution_count": 153,
     "metadata": {},
     "output_type": "execute_result"
    }
   ],
   "source": [
    "clf.score(X_test, y_test)"
   ]
  },
  {
   "cell_type": "code",
   "execution_count": 154,
   "metadata": {},
   "outputs": [],
   "source": [
    "y_pred = clf.predict(X_test)"
   ]
  },
  {
   "cell_type": "code",
   "execution_count": 155,
   "metadata": {
    "scrolled": false
   },
   "outputs": [
    {
     "data": {
      "text/plain": [
       "array([[967,   1],\n",
       "       [ 15, 132]], dtype=int64)"
      ]
     },
     "execution_count": 155,
     "metadata": {},
     "output_type": "execute_result"
    }
   ],
   "source": [
    "conf_matrix = confusion_matrix(y_test, y_pred)\n",
    "conf_matrix"
   ]
  },
  {
   "cell_type": "code",
   "execution_count": 156,
   "metadata": {
    "scrolled": true
   },
   "outputs": [
    {
     "name": "stdout",
     "output_type": "stream",
     "text": [
      "The Accuracy Score is 0.99% \n"
     ]
    }
   ],
   "source": [
    "print(f'The Accuracy Score is {np.round(accuracy_score(y_test, y_pred), 2)}% ') "
   ]
  },
  {
   "cell_type": "code",
   "execution_count": null,
   "metadata": {},
   "outputs": [],
   "source": [
    "# 99% Accuracy.."
   ]
  },
  {
   "cell_type": "markdown",
   "metadata": {},
   "source": [
    "### Using Lemmatization"
   ]
  },
  {
   "cell_type": "code",
   "execution_count": 128,
   "metadata": {},
   "outputs": [],
   "source": [
    "lemmatizer = WordNetLemmatizer()  # WordNetLemmatizer for lemmatization\n",
    "corpus = []"
   ]
  },
  {
   "cell_type": "code",
   "execution_count": 129,
   "metadata": {},
   "outputs": [],
   "source": [
    "for i in range(len(df['Message'])):\n",
    "    words = re.sub('[^a-zA-z]', ' ', df['Message'][i]) # removing all special characters\n",
    "    words = words.lower()  # lowering all characters\n",
    "    words = words.split()  # spliting the sentence into words\n",
    "    # applying lemmatization using WordNetLemmatizer\n",
    "    words = [lemmatizer.lemmatize(word) for word in words if word not in stopwords.words('english')]  \n",
    "    words = ' '.join(words)\n",
    "    corpus.append(words)  # appending it to a list"
   ]
  },
  {
   "cell_type": "code",
   "execution_count": 131,
   "metadata": {},
   "outputs": [],
   "source": [
    "X = corpus\n",
    "y = df['Spam'] "
   ]
  },
  {
   "cell_type": "code",
   "execution_count": 132,
   "metadata": {
    "scrolled": true
   },
   "outputs": [
    {
     "data": {
      "text/plain": [
       "(5572, 5572)"
      ]
     },
     "execution_count": 132,
     "metadata": {},
     "output_type": "execute_result"
    }
   ],
   "source": [
    "len(X), len(y)"
   ]
  },
  {
   "cell_type": "markdown",
   "metadata": {},
   "source": [
    "#### Splitting before Transforming and fitting to avoid Overfitting"
   ]
  },
  {
   "cell_type": "code",
   "execution_count": 133,
   "metadata": {},
   "outputs": [],
   "source": [
    "X_train, X_test,y_train, y_test = train_test_split(X, y, test_size=0.2, random_state=1)"
   ]
  },
  {
   "cell_type": "markdown",
   "metadata": {},
   "source": [
    "#### Pipleine -  transformer (CountVectorizer/ one hot encoder) and estimator(LogisticRegression)"
   ]
  },
  {
   "cell_type": "code",
   "execution_count": 134,
   "metadata": {},
   "outputs": [],
   "source": [
    "clf = Pipeline([('Vectorizer', CountVectorizer()), ('lr', LogisticRegression())])"
   ]
  },
  {
   "cell_type": "code",
   "execution_count": 135,
   "metadata": {
    "scrolled": true
   },
   "outputs": [
    {
     "data": {
      "text/plain": [
       "Pipeline(steps=[('Vectorizer', CountVectorizer()),\n",
       "                ('lr', LogisticRegression())])"
      ]
     },
     "execution_count": 135,
     "metadata": {},
     "output_type": "execute_result"
    }
   ],
   "source": [
    "clf.fit(X_train, y_train)"
   ]
  },
  {
   "cell_type": "code",
   "execution_count": 136,
   "metadata": {
    "scrolled": true
   },
   "outputs": [
    {
     "data": {
      "text/plain": [
       "0.9829596412556054"
      ]
     },
     "execution_count": 136,
     "metadata": {},
     "output_type": "execute_result"
    }
   ],
   "source": [
    "clf.score(X_test, y_test)"
   ]
  },
  {
   "cell_type": "code",
   "execution_count": 138,
   "metadata": {},
   "outputs": [],
   "source": [
    "y_pred = clf.predict(X_test)"
   ]
  },
  {
   "cell_type": "code",
   "execution_count": 145,
   "metadata": {
    "scrolled": false
   },
   "outputs": [
    {
     "data": {
      "text/plain": [
       "array([[966,   2],\n",
       "       [ 17, 130]], dtype=int64)"
      ]
     },
     "execution_count": 145,
     "metadata": {},
     "output_type": "execute_result"
    }
   ],
   "source": [
    "conf_matrix = confusion_matrix(y_test, y_pred)\n",
    "conf_matrix"
   ]
  },
  {
   "cell_type": "code",
   "execution_count": 140,
   "metadata": {
    "scrolled": true
   },
   "outputs": [
    {
     "name": "stdout",
     "output_type": "stream",
     "text": [
      "The Accuracy Score is 0.98% \n"
     ]
    }
   ],
   "source": [
    "print(f'The Accuracy Score is {np.round(accuracy_score(y_test, y_pred), 2)}% ') "
   ]
  },
  {
   "cell_type": "markdown",
   "metadata": {},
   "source": [
    "### Thank You"
   ]
  }
 ],
 "metadata": {
  "kernelspec": {
   "display_name": "Python 3",
   "language": "python",
   "name": "python3"
  },
  "language_info": {
   "codemirror_mode": {
    "name": "ipython",
    "version": 3
   },
   "file_extension": ".py",
   "mimetype": "text/x-python",
   "name": "python",
   "nbconvert_exporter": "python",
   "pygments_lexer": "ipython3",
   "version": "3.8.3"
  }
 },
 "nbformat": 4,
 "nbformat_minor": 4
}
